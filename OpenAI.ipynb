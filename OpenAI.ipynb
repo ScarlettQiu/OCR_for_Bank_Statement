{
  "nbformat": 4,
  "nbformat_minor": 0,
  "metadata": {
    "colab": {
      "provenance": [],
      "authorship_tag": "ABX9TyPd4VSqW9BP26OyWX3B1VBY",
      "include_colab_link": true
    },
    "kernelspec": {
      "name": "python3",
      "display_name": "Python 3"
    },
    "language_info": {
      "name": "python"
    }
  },
  "cells": [
    {
      "cell_type": "markdown",
      "metadata": {
        "id": "view-in-github",
        "colab_type": "text"
      },
      "source": [
        "<a href=\"https://colab.research.google.com/github/ScarlettQiu/OCR_for_Bank_Statement/blob/main/OpenAI.ipynb\" target=\"_parent\"><img src=\"https://colab.research.google.com/assets/colab-badge.svg\" alt=\"Open In Colab\"/></a>"
      ]
    },
    {
      "cell_type": "code",
      "source": [
        "#pip install openai"
      ],
      "metadata": {
        "id": "9XN9jXzk5f7y"
      },
      "execution_count": 6,
      "outputs": []
    },
    {
      "cell_type": "code",
      "execution_count": 7,
      "metadata": {
        "id": "R3uWr5gprGUc"
      },
      "outputs": [],
      "source": [
        "import os\n",
        "import openai\n",
        "\n",
        "openai.api_key = 'API KEY'"
      ]
    },
    {
      "cell_type": "code",
      "source": [
        "# imports\n",
        "import ast  # for converting embeddings saved as strings back to arrays\n",
        "import openai  # for calling the OpenAI API\n",
        "import pandas as pd  # for storing text and embeddings data\n",
        "#import tiktoken  # for counting tokens\n",
        "from scipy import spatial  # for calculating vector similarities for search\n",
        "\n",
        "\n",
        "# models\n",
        "EMBEDDING_MODEL = \"text-embedding-ada-002\"\n",
        "GPT_MODEL = \"gpt-3.5-turbo\""
      ],
      "metadata": {
        "id": "2Y-sV8vOz_IA"
      },
      "execution_count": 8,
      "outputs": []
    },
    {
      "cell_type": "code",
      "source": [
        "# text copied and pasted from text generated from OCR models\n",
        "# I didn't format or clean the text generated, but GPT will still understand it\n",
        "\n",
        "cc1_FSRCNN = \"\"\"Page 1 of 3\n",
        "\n",
        "Platinum Card | Platinum Mastercard ending In 8508\n",
        "Aug 03, 2022 - Sep 02, 2022 | 31 days in Billing Cycle\n",
        "\n",
        "Account Summary\n",
        "\n",
        "\n",
        "\n",
        "\n",
        "\n",
        "LATE PAYMENT WARNING: If we do nat receive yaur rinirnum payment\n",
        "by your due date, you may have to pay a late fee af up to $40.00.\n",
        "\n",
        "AINIMUM PAYMENT WARNING: If you make only the minimum\n",
        "payment each period, you will pay more in interest and it will take you\n",
        "longer to pay off your balance. For example:\n",
        "\n",
        "\n",
        "\n",
        "Minimum Payment 10 Years $3,558\n",
        "\n",
        "\n",
        "\n",
        "| $61 3 Years $2,180\n",
        "\n",
        "\n",
        "\n",
        "\n",
        "\n",
        "| Estimated savings if balance is paid off in about 3 years: $1,378\n",
        "\n",
        "\n",
        "\n",
        "\n",
        "\n",
        "Payment Oue Date Far online ad phane payments, the Previous Balance $948.58\n",
        "Sep 27, 2022 ee Payments - $250.00\n",
        "New Balaace Minimum Payment Due Other Credits $0.00\n",
        "$1,659.63 $25.00 Transactions + $961.05\n",
        "\n",
        "Cash Advances\n",
        "\n",
        "+ $0.00\n",
        "\n",
        "\n",
        "\n",
        "Fees Charged\n",
        "Interest Charged\n",
        "\n",
        "+ $0.00\n",
        "+ $0.00\n",
        "\n",
        "\n",
        "\n",
        "New Balance\n",
        "\n",
        "Credit Limit\n",
        "\n",
        "= $1,659.63\n",
        "$2,000.00\n",
        "\n",
        "\n",
        "\n",
        "Available Credit (as of Sep 02, 2022)\n",
        "\n",
        "$340.37\n",
        "\n",
        "\n",
        "\n",
        "Cash Advarice Credit Limit\n",
        "\n",
        "$1,000.00\n",
        "\n",
        "\n",
        "\n",
        "Available Credit for Cash Advances\n",
        "\n",
        "$340.37\n",
        "\n",
        "\n",
        "\n",
        "\n",
        "\n",
        "\n",
        "\n",
        "\n",
        "\n",
        "Mf you would Eke information about credit courseling services, call 1-888-326-8055.\n",
        "\n",
        "\n",
        "\n",
        "\n",
        "\n",
        "Manage your account\n",
        "\n",
        "300077\n",
        "\n",
        "2 anywhere, anytime.\n",
        "Pay your bill, set up alerts and more\n",
        "\n",
        "with the Capital One* mobile app.\n",
        "\n",
        "“Text ONE to 80101 to Gownkaad the agp today. Messaging & Data rates may apply.\n",
        "\n",
        "Account Notifications\n",
        "@® __ Welcome to your account notifications. Check back here each month for important updates about your account.\n",
        "\n",
        "\n",
        "\n",
        "\n",
        "\n",
        "Pay or manage your account at canitalone.com Custamer Service: 1-800-227-4825\n",
        "\n",
        "Se\n",
        "\n",
        "LAS VEGAS, NV 89110-3437\n",
        "\n",
        "Payment Due Date: Sep 27, 2022 Account ending in 8508\n",
        "New Balance Minimum Payment Due Amount Enclosed\n",
        "$1,659.63 $25.00 $\n",
        "\n",
        "Please sand us this portion of your statement and only one check (cr ane meney ordec) payable to Capital One\n",
        "\n",
        "to EaSUre your payment is processed peconptly. Allow at least saven businass days for delivery.\n",
        "\n",
        "Soe reverse for Important Infarmation\n",
        "\n",
        "Save time, stay informed.\n",
        "Discover new features with\n",
        "the Capital One Mobile app.\n",
        "\n",
        "\n",
        "\n",
        "Capital One\n",
        "\n",
        "P.O. Box 60599\n",
        "\n",
        "City of Industry CA 91716-0599\n",
        "\n",
        "col atta te valletroec! ble atl\n",
        "\n",
        "\n",
        "\n",
        "Sean this OR Code with your phone's camera to download the\n",
        "\n",
        "\n",
        "\n",
        "1 5178057506878508 02 1659630200000025005\n",
        "\n",
        "\"\"\""
      ],
      "metadata": {
        "id": "qirjcX-crLyR"
      },
      "execution_count": 9,
      "outputs": []
    },
    {
      "cell_type": "code",
      "source": [
        "query = f\"\"\"Use the below article on the Platinum Mastercard ending in 8508 Billing Cycle. If the answer cannot be found, write \"I don't know.\"\n",
        "\n",
        "Article:\n",
        "\\\"\\\"\\\"\n",
        "{cc1_FSRCNN}\n",
        "\\\"\\\"\\\"\n",
        "\n",
        "Question: Which is the minimun payment due?\"\"\"\n",
        "\n",
        "response = openai.ChatCompletion.create(\n",
        "    messages=[\n",
        "        {'role': 'system', 'content': 'You answer questions about the Platinum Mastercard ending in 8508 Billing Cycle.'},\n",
        "        {'role': 'user', 'content': query},\n",
        "    ],\n",
        "    model=GPT_MODEL,\n",
        "    temperature=0,\n",
        ")\n",
        "\n",
        "print(response['choices'][0]['message']['content'])"
      ],
      "metadata": {
        "colab": {
          "base_uri": "https://localhost:8080/"
        },
        "id": "Ja3qo6Hmxu69",
        "outputId": "d405a01c-579c-48d9-c154-4029f2d2b3d3"
      },
      "execution_count": 10,
      "outputs": [
        {
          "output_type": "stream",
          "name": "stdout",
          "text": [
            "The minimum payment due is $25.00.\n"
          ]
        }
      ]
    },
    {
      "cell_type": "code",
      "source": [
        "query = f\"\"\"Use the below article on the Platinum Mastercard ending in 8508 Billing Cycle. If the answer cannot be found, write \"I don't know.\"\n",
        "\n",
        "Article:\n",
        "\\\"\\\"\\\"\n",
        "{cc1_FSRCNN}\n",
        "\\\"\\\"\\\"\n",
        "\n",
        "Question: How much is the New Balance?\"\"\"\n",
        "\n",
        "response = openai.ChatCompletion.create(\n",
        "    messages=[\n",
        "        {'role': 'system', 'content': 'You answer questions about the Platinum Mastercard ending in 8508 Billing Cycle.'},\n",
        "        {'role': 'user', 'content': query},\n",
        "    ],\n",
        "    model=GPT_MODEL,\n",
        "    temperature=0,\n",
        ")\n",
        "\n",
        "print(response['choices'][0]['message']['content'])"
      ],
      "metadata": {
        "colab": {
          "base_uri": "https://localhost:8080/"
        },
        "id": "Sg1YkRrSz1SG",
        "outputId": "f47cb793-8f70-492a-f2df-9a6a1f73d261"
      },
      "execution_count": 11,
      "outputs": [
        {
          "output_type": "stream",
          "name": "stdout",
          "text": [
            "The New Balance is $1,659.63.\n"
          ]
        }
      ]
    },
    {
      "cell_type": "code",
      "source": [
        "query = f\"\"\"Use the below article on the Platinum Mastercard ending in 8508 Billing Cycle. If the answer cannot be found, write \"I don't know.\"\n",
        "\n",
        "Article:\n",
        "\\\"\\\"\\\"\n",
        "{cc1_FSRCNN}\n",
        "\\\"\\\"\\\"\n",
        "\n",
        "Question: How much is the Transactions?\"\"\"\n",
        "\n",
        "response = openai.ChatCompletion.create(\n",
        "    messages=[\n",
        "        {'role': 'system', 'content': 'You answer questions about the Platinum Mastercard ending in 8508 Billing Cycle.'},\n",
        "        {'role': 'user', 'content': query},\n",
        "    ],\n",
        "    model=GPT_MODEL,\n",
        "    temperature=0,\n",
        ")\n",
        "\n",
        "print(response['choices'][0]['message']['content'])"
      ],
      "metadata": {
        "colab": {
          "base_uri": "https://localhost:8080/"
        },
        "id": "N5eHYF0Q0PFk",
        "outputId": "9be1dc5e-823c-445c-b682-245862a1e28e"
      },
      "execution_count": 12,
      "outputs": [
        {
          "output_type": "stream",
          "name": "stdout",
          "text": [
            "The transactions amount is $961.05.\n"
          ]
        }
      ]
    },
    {
      "cell_type": "code",
      "source": [
        "# text copied and pasted from: https://en.wikipedia.org/wiki/Curling_at_the_2022_Winter_Olympics\n",
        "# I didn't bother to format or clean the text, but GPT will still understand it\n",
        "# the entire article is too long for gpt-3.5-turbo, so I only included the top few sections\n",
        "\n",
        "cc1_OpenCV = \"\"\"Page|lof3|\n",
        "Platinum Card | Platinum Mastercard ending in 8508\n",
        "Billing|Cycle\n",
        "\n",
        "[Aug|O3,|2022|-|Sep|02,2022|  | |31|days|\n",
        "\n",
        "Account Summary\n",
        "\n",
        "Payment Information\n",
        "\n",
        "Previous Balance\n",
        "Payments\n",
        "Other Credits\n",
        "\n",
        "Transactions\n",
        "\n",
        "Payment Due Date\n",
        "\n",
        "sep 27, 2022\n",
        "\n",
        "New Balance Minimum Payment Due\n",
        "\n",
        "$1,659.63 $25.00\n",
        "\n",
        "LATE PAYMENT WARNING: If we do not receive your minimum payment\n",
        "by your due date, you may have to pay a late fee of up to $40.00.\n",
        "\n",
        "For online and phone payments, the\n",
        "deadline is 8pm ET.\n",
        "\n",
        "Cash Advances\n",
        "Fees Charged\n",
        "Interest Charged\n",
        "New Balance\n",
        "\n",
        "MINIMUM PAYMENT WARNING:!f you make only the minimum\n",
        "payment each period, you will pay more in interest and it will take you\n",
        "longer to pay off your balance. For example:\n",
        "\n",
        "Credit Limit\n",
        "\n",
        "Available Credit (as of Sep 02, 2022)\n",
        "\n",
        "Cash Advance Credit Limit\n",
        "\n",
        "Available Credit tor Cash Advances\n",
        "\n",
        "Estimated savings if Dalance is paid off in about 3 years: $1,378\n",
        "\n",
        "Manage your account\n",
        "if you would like information about credil counseling services, call 1-888-326-8055.\n",
        "\n",
        "$948.58\n",
        "\n",
        "- $250.00\n",
        "$0.00\n",
        "\n",
        "+ $961.05\n",
        "+ $0.00\n",
        "\n",
        "+ $0.00\n",
        "\n",
        "+ $0.00\n",
        "\n",
        "= $1,659.63\n",
        "$2,000.00\n",
        "$340.37\n",
        "$1,000.00\n",
        "$340.37\n",
        "\n",
        "anywhere, anytime.\n",
        "\n",
        "Pay your bill, set up alerts and more\n",
        "\n",
        "with the Capital One* mobile app.\n",
        "\n",
        "Notifications\n",
        "Welcome|to your|account|notifications,|Check||back|here|each|month| for |important|updates |about|your|account,\n",
        "\n",
        "Pay|or|manage |your account|at|capitalone.com|\n",
        "\n",
        "cans\n",
        "\n",
        "\n",
        "\n",
        "Discover new features with\n",
        "\n",
        "LAS|VEGAS, |NV/891/10-3437\n",
        "\n",
        "\n",
        "\n",
        "\n",
        "\n",
        "\n",
        "\n",
        "\n",
        "\n",
        "\n",
        "\n",
        "\n",
        "\n",
        "Sep|27,|2022 Account|ending|in|8508\n",
        "$25.00 City of| industry CA[91\n",
        "\n",
        "and only one check (or one money order) payable to Capital One ta DAL ete dea dene eed tana eda aba\n",
        "to ensure your payment |is processed|promptly, Allow at least seven|business days for delivery.\n",
        "\n",
        "the Capital One Mobile app.\n",
        "\n",
        "\n",
        "\n",
        "1 5/1/780/5/7/5/068/7/8)/508 165963020000002)/500/5\n",
        "\n",
        "\"\"\""
      ],
      "metadata": {
        "id": "XTMO4TZt0oAs"
      },
      "execution_count": 13,
      "outputs": []
    },
    {
      "cell_type": "code",
      "source": [
        "query = f\"\"\"Use the below article on the Platinum Mastercard ending in 8508 Billing Cycle. If the answer cannot be found, write \"I don't know.\"\n",
        "\n",
        "Article:\n",
        "\\\"\\\"\\\"\n",
        "{cc1_OpenCV}\n",
        "\\\"\\\"\\\"\n",
        "\n",
        "Question: How much is the Payments?\"\"\"\n",
        "\n",
        "response = openai.ChatCompletion.create(\n",
        "    messages=[\n",
        "        {'role': 'system', 'content': 'You answer questions about the Platinum Mastercard ending in 8508 Billing Cycle.'},\n",
        "        {'role': 'user', 'content': query},\n",
        "    ],\n",
        "    model=GPT_MODEL,\n",
        "    temperature=0,\n",
        ")\n",
        "\n",
        "print(response['choices'][0]['message']['content'])"
      ],
      "metadata": {
        "colab": {
          "base_uri": "https://localhost:8080/"
        },
        "id": "sUsfVGzj1ODh",
        "outputId": "918b5d36-0d73-443c-e1ed-fa2725c96f0a"
      },
      "execution_count": 14,
      "outputs": [
        {
          "output_type": "stream",
          "name": "stdout",
          "text": [
            "Based on the information provided in the article, the Payments amount is $250.00.\n"
          ]
        }
      ]
    },
    {
      "cell_type": "code",
      "source": [
        "query = f\"\"\"Use the below article on the Platinum Mastercard ending in 8508 Billing Cycle. If the answer cannot be found, write \"I don't know.\"\n",
        "\n",
        "Article:\n",
        "\\\"\\\"\\\"\n",
        "{cc1_OpenCV}\n",
        "\\\"\\\"\\\"\n",
        "\n",
        "Question: Which is the Transactions?\"\"\"\n",
        "\n",
        "response = openai.ChatCompletion.create(\n",
        "    messages=[\n",
        "        {'role': 'system', 'content': 'You answer questions about the Platinum Mastercard ending in 8508 Billing Cycle.'},\n",
        "        {'role': 'user', 'content': query},\n",
        "    ],\n",
        "    model=GPT_MODEL,\n",
        "    temperature=0,\n",
        ")\n",
        "\n",
        "print(response['choices'][0]['message']['content'])"
      ],
      "metadata": {
        "colab": {
          "base_uri": "https://localhost:8080/"
        },
        "id": "XSFXptJY1Rnw",
        "outputId": "a25b7403-a7ce-480b-9566-c3b9ec429e20"
      },
      "execution_count": 15,
      "outputs": [
        {
          "output_type": "stream",
          "name": "stdout",
          "text": [
            "I don't know.\n"
          ]
        }
      ]
    },
    {
      "cell_type": "code",
      "source": [
        "# CC2 Pytesseract\n",
        "\n",
        "cc2_PyTesseract = \"\"\"\n",
        "\n",
        "\n",
        "\n",
        "Page 2 of 3\n",
        "Platinum Card | Platinum Mastercard ending in 8508\n",
        "Aug 03, 2022 - Sep 02, 2022 | 31 days in Billing Cycle\n",
        "\n",
        "\n",
        "\n",
        "\n",
        "\n",
        "\n",
        "\n",
        "\n",
        "\n",
        "\n",
        "\n",
        "\n",
        "\n",
        "\n",
        "\n",
        "\n",
        "\n",
        "\n",
        "\n",
        "\n",
        "\n",
        "\n",
        "‘8508: Payments, Credits and Adjustments\n",
        "‘Trans Date Post Date Descrigtion Amount\n",
        "Aug 7 Aug 8 CAPITAL ONE MOBILE PYMTAuthDate 06-Aug $50.00\n",
        "Aug 19 Aug 19 CAPITAL ONE MOBILE PYMTAuthDate 19-Aug - $200.00\n",
        "\n",
        "\n",
        "\n",
        "KRYSTAL BRECEDA #8508: Transactions\n",
        "\n",
        "\n",
        "\n",
        "\n",
        "\n",
        "\n",
        "\n",
        "\n",
        "\n",
        "\n",
        "\n",
        "\n",
        "\n",
        "\n",
        "\n",
        "\n",
        "\n",
        "Trans Date Post Date Description Amount\n",
        "Aug 6 Aug 8 VISIONWORKS INC - GLAS VEGASNV $787.14\n",
        "Aug & Aug 8 AMZN MMktp US*178031AS2Amzn-compbillWA $25.28\n",
        "Aug & Aug 8 AIAZN Biktp US*7K7LM6FA3Amzn.cam/billWA $10.78\n",
        "Aug 17 Aug 18 OLO NAVY US 3292L AS VEGASNY $19.50\n",
        "Aug 21 Aug 22 Amazon.com*QG7UL4I73AMZN.COM/BILLWA, $11.35\n",
        "Aug 28 Aug 29 BURLINGTON STORES 1234LAS VEGASNV $77.00\n",
        "Aug 28 Aug 29 SAM'S TOWN BOWLING CENLAS VEGASNY $30.00\n",
        "KRYSTAL BRECEDA #8508: Total Transactions $961.05\n",
        "Total Transactions for This Period $961.05\n",
        "\n",
        "\n",
        "\n",
        "\n",
        "‘Trans Date Post Date\n",
        "\n",
        "\n",
        "\n",
        "Description\n",
        "\n",
        "Total Fees for This Period\n",
        "\n",
        "Interest Charge on Purchases\n",
        "Interest Charge an Cash Advances $0.C0\n",
        "\n",
        "\n",
        "\n",
        "\n",
        "\n",
        "Interest Charge on Other Balances $0.c0\n",
        "\n",
        "\n",
        "\n",
        "Total Interest for This Period\n",
        "\n",
        "Total Fees charged\n",
        "Total Interest charged\n",
        "\n",
        "\"\"\""
      ],
      "metadata": {
        "id": "ybWxSycr1YJ9"
      },
      "execution_count": 16,
      "outputs": []
    },
    {
      "cell_type": "code",
      "source": [
        "query = f\"\"\"Use the below article on the Platinum Mastercard ending in 8508 Billing Cycle. If the answer cannot be found, write \"I don't know.\"\n",
        "\n",
        "Article:\n",
        "\\\"\\\"\\\"\n",
        "{cc2_PyTesseract}\n",
        "\\\"\\\"\\\"\n",
        "\n",
        "Question: Which is the KRYSTAL BRECEDA #8508: Total Transactions?\"\"\"\n",
        "\n",
        "response = openai.ChatCompletion.create(\n",
        "    messages=[\n",
        "        {'role': 'system', 'content': 'You answer questions about the Platinum Mastercard ending in 8508 Billing Cycle.'},\n",
        "        {'role': 'user', 'content': query},\n",
        "    ],\n",
        "    model=GPT_MODEL,\n",
        "    temperature=0,\n",
        ")\n",
        "\n",
        "print(response['choices'][0]['message']['content'])"
      ],
      "metadata": {
        "colab": {
          "base_uri": "https://localhost:8080/"
        },
        "id": "1eG3loai2S16",
        "outputId": "b4a0f08f-1a3a-451c-dcb6-d82951feb2ab"
      },
      "execution_count": 17,
      "outputs": [
        {
          "output_type": "stream",
          "name": "stdout",
          "text": [
            "The KRYSTAL BRECEDA #8508: Total Transactions is $961.05.\n"
          ]
        }
      ]
    },
    {
      "cell_type": "code",
      "source": [
        "query = f\"\"\"Use the below article on the Platinum Mastercard ending in 8508 Billing Cycle. If the answer cannot be found, write \"I don't know.\"\n",
        "\n",
        "Article:\n",
        "\\\"\\\"\\\"\n",
        "{cc2_PyTesseract}\n",
        "\\\"\\\"\\\"\n",
        "\n",
        "Question: How much is the KRYSTAL BRECEDA #8508: CAPITAL ONE MOBILE PYMTAuthDate 19-Aug?\"\"\"\n",
        "\n",
        "response = openai.ChatCompletion.create(\n",
        "    messages=[\n",
        "        {'role': 'system', 'content': 'You answer questions about the Platinum Mastercard ending in 8508 Billing Cycle.'},\n",
        "        {'role': 'user', 'content': query},\n",
        "    ],\n",
        "    model=GPT_MODEL,\n",
        "    temperature=0,\n",
        ")\n",
        "\n",
        "print(response['choices'][0]['message']['content'])"
      ],
      "metadata": {
        "id": "v-PdFvq6iJVz",
        "outputId": "c42f00e0-ed6e-4b30-b7cc-e992641b6116",
        "colab": {
          "base_uri": "https://localhost:8080/"
        }
      },
      "execution_count": 28,
      "outputs": [
        {
          "output_type": "stream",
          "name": "stdout",
          "text": [
            "According to the article, the KRYSTAL BRECEDA #8508: CAPITAL ONE MOBILE PYMTAuthDate 19-Aug is -$200.00.\n"
          ]
        }
      ]
    },
    {
      "cell_type": "code",
      "source": [
        "query = f\"\"\"Use the below article on the Platinum Mastercard ending in 8508 Billing Cycle. If the answer cannot be found, write \"I don't know.\"\n",
        "\n",
        "Article:\n",
        "\\\"\\\"\\\"\n",
        "{cc2_PyTesseract}\n",
        "\\\"\\\"\\\"\n",
        "\n",
        "Question: When did Transaction VISIONWORKS INC - GLAS VEGASNV happen?\"\"\"\n",
        "\n",
        "response = openai.ChatCompletion.create(\n",
        "    messages=[\n",
        "        {'role': 'system', 'content': 'You answer questions about the Platinum Mastercard ending in 8508 Billing Cycle.'},\n",
        "        {'role': 'user', 'content': query},\n",
        "    ],\n",
        "    model=GPT_MODEL,\n",
        "    temperature=0,\n",
        ")\n",
        "\n",
        "print(response['choices'][0]['message']['content'])"
      ],
      "metadata": {
        "id": "gudAQ1L4ipcb",
        "outputId": "690559bc-d9f6-4421-c6b0-184cd7c25325",
        "colab": {
          "base_uri": "https://localhost:8080/"
        }
      },
      "execution_count": 30,
      "outputs": [
        {
          "output_type": "stream",
          "name": "stdout",
          "text": [
            "The transaction for VISIONWORKS INC - GLAS VEGASNV happened on August 6th.\n"
          ]
        }
      ]
    },
    {
      "cell_type": "code",
      "source": [
        "# CC2 OpenCV\n",
        "\n",
        "cc2_openCV = \"\"\"\n",
        "\n",
        "\n",
        "\n",
        "Transactions\n",
        "\n",
        "8508: Payments, Credits and Adjustments\n",
        "Trans Date —— Post Date Description\n",
        "Aug 7 Aug 8 CAPITAL ONE MOBILE PYMTAuthDate 06-Aug\n",
        "Aug 19 Aug 19 CAPITAL ONE MOBILE PYMTAuthDate 19-Aug\n",
        "\n",
        "KRYSTAL BRECEDA #8508: Transactions\n",
        "Trans Date Description\n",
        "VISIONWORKS INC - GLAS VEGASNYV\n",
        "AMZN Mktp US*178031AS2Amzn.combillWA\n",
        "\n",
        "Page 2 of 3\n",
        "Platinum Card | Platinum Mastercard ending in 8508\n",
        "Aug 03, 2022 - Sep 02, 2022 | 31 days in Billing Cycle\n",
        "\n",
        "Amount\n",
        "$787.14\n",
        "$25.28\n",
        "\n",
        "\n",
        "\n",
        "AMZN Mktp US*7K7LM6FA3Amzn.conmvbilIWA\n",
        "Aug 17 Aug 18 OLD NAVY US 3292LAS VEGASNY\n",
        "Aug 21 Aug 22 Amazon.com*QG7UL4173AMZN.COM/BILLWA\n",
        "Aug 28 Aug 29 BURLINGTON STORES 1234LAS VEGASNY\n",
        "Aug 28 Aug 29 SAM'S TOWN BOWLING CENLAS VEGASNY\n",
        "KRYSTAL BRECEDA #8508: Total Transactions\n",
        "\n",
        "Total Transactions for This Period\n",
        "\n",
        "Trans Date Post Date Description\n",
        "\n",
        "Total Fees for This Period\n",
        "\n",
        "Interest Charge on Purchases\n",
        "Interest Charge on Cash Advances\n",
        "Interest Charge an Other Balances\n",
        "\n",
        "Total Interest for This Period\n",
        "\n",
        "Total Fees charged\n",
        "Total Interest charged\n",
        "\n",
        "$10.78\n",
        "$19.50\n",
        "$11.35\n",
        "$77.00\n",
        "$30.00\n",
        "$961.05\n",
        "\n",
        "$961.05\n",
        "\n",
        "$0.00\n",
        "\n",
        "$0.00\n",
        "$0.00\n",
        "$0.00\n",
        "$0.00\n",
        "$0.00\n",
        "\n",
        "$0.00\n",
        "$0.00\n",
        "\"\"\""
      ],
      "metadata": {
        "id": "3keUvhaHgA9z"
      },
      "execution_count": 18,
      "outputs": []
    },
    {
      "cell_type": "code",
      "source": [
        "query = f\"\"\"Use the below article on the Platinum Mastercard ending in 8508 Billing Cycle. If the answer cannot be found, write \"I don't know.\"\n",
        "\n",
        "Article:\n",
        "\\\"\\\"\\\"\n",
        "{cc2_openCV}\n",
        "\\\"\\\"\\\"\n",
        "\n",
        "Question: Which is the KRYSTAL BRECEDA #8508: Total Transactions?\"\"\"\n",
        "\n",
        "response = openai.ChatCompletion.create(\n",
        "    messages=[\n",
        "        {'role': 'system', 'content': 'You answer questions about the Platinum Mastercard ending in 8508 Billing Cycle.'},\n",
        "        {'role': 'user', 'content': query},\n",
        "    ],\n",
        "    model=GPT_MODEL,\n",
        "    temperature=0,\n",
        ")\n",
        "\n",
        "print(response['choices'][0]['message']['content'])"
      ],
      "metadata": {
        "id": "zKmZ8VEvgtMo",
        "outputId": "790c4deb-9682-4936-b7fd-879e4e458222",
        "colab": {
          "base_uri": "https://localhost:8080/"
        }
      },
      "execution_count": 19,
      "outputs": [
        {
          "output_type": "stream",
          "name": "stdout",
          "text": [
            "The total transactions for Krystal Breceda #8508 are not provided in the article.\n"
          ]
        }
      ]
    },
    {
      "cell_type": "code",
      "source": [
        "query = f\"\"\"Use the below article on the Platinum Mastercard ending in 8508 Billing Cycle. If the answer cannot be found, write \"I don't know.\"\n",
        "\n",
        "Article:\n",
        "\\\"\\\"\\\"\n",
        "{cc2_openCV}\n",
        "\\\"\\\"\\\"\n",
        "\n",
        "Question: How much is the KRYSTAL BRECEDA #8508: CAPITAL ONE MOBILE PYMTAuthDate 19-Aug?\"\"\"\n",
        "\n",
        "response = openai.ChatCompletion.create(\n",
        "    messages=[\n",
        "        {'role': 'system', 'content': 'You answer questions about the Platinum Mastercard ending in 8508 Billing Cycle.'},\n",
        "        {'role': 'user', 'content': query},\n",
        "    ],\n",
        "    model=GPT_MODEL,\n",
        "    temperature=0,\n",
        ")\n",
        "\n",
        "print(response['choices'][0]['message']['content'])"
      ],
      "metadata": {
        "id": "-plzAHtZihlb",
        "outputId": "8ad1a13e-5150-4e86-d8f1-ad90c62df9a1",
        "colab": {
          "base_uri": "https://localhost:8080/"
        }
      },
      "execution_count": 29,
      "outputs": [
        {
          "output_type": "stream",
          "name": "stdout",
          "text": [
            "Based on the provided information, the amount for the KRYSTAL BRECEDA #8508: CAPITAL ONE MOBILE PYMTAuthDate 19-Aug transaction is $25.28.\n"
          ]
        }
      ]
    },
    {
      "cell_type": "code",
      "source": [
        "query = f\"\"\"Use the below article on the Platinum Mastercard ending in 8508 Billing Cycle. If the answer cannot be found, write \"I don't know.\"\n",
        "\n",
        "Article:\n",
        "\\\"\\\"\\\"\n",
        "{cc2_openCV}\n",
        "\\\"\\\"\\\"\n",
        "\n",
        "Question: When did Transaction VISIONWORKS INC - GLAS VEGASNV happen?\"\"\"\n",
        "\n",
        "response = openai.ChatCompletion.create(\n",
        "    messages=[\n",
        "        {'role': 'system', 'content': 'You answer questions about the Platinum Mastercard ending in 8508 Billing Cycle.'},\n",
        "        {'role': 'user', 'content': query},\n",
        "    ],\n",
        "    model=GPT_MODEL,\n",
        "    temperature=0,\n",
        ")\n",
        "\n",
        "print(response['choices'][0]['message']['content'])"
      ],
      "metadata": {
        "id": "W_Ru80ori7vm",
        "outputId": "639360f0-688c-474a-fbce-801b0e640600",
        "colab": {
          "base_uri": "https://localhost:8080/"
        }
      },
      "execution_count": 32,
      "outputs": [
        {
          "output_type": "stream",
          "name": "stdout",
          "text": [
            "Based on the information provided in the article, the transaction for VISIONWORKS INC - GLAS VEGASNV does not have a specific date mentioned. Therefore, it is not possible to determine when this transaction occurred.\n"
          ]
        }
      ]
    },
    {
      "cell_type": "code",
      "source": [
        "# loan1_Pytesseract\n",
        "\n",
        "loan1_Pytesseract = \"\"\"\n",
        "\n",
        "\n",
        "\n",
        "\n",
        "scratch\n",
        "\n",
        "https://scratch.fi\n",
        "\n",
        "Sammy Scratch\n",
        "Coit Tower\n",
        "Anytown, USA 12345\n",
        "\n",
        "Lendco Personal Loan\n",
        "\n",
        "Loan number 12345678910\n",
        "\n",
        "Total amount due July 1, 2017\n",
        "\n",
        "$316.37\n",
        "\n",
        "After Jul 11, 2017, a $10 late fee will be charged\n",
        "\n",
        "Current payment\n",
        "\n",
        "Payment overview\n",
        "Principal\n",
        "\n",
        "Interest\n",
        "\n",
        "Regular monthly payment\n",
        "Fees\n",
        "Overdue payments\n",
        "\n",
        "Total due July 1, 2017\n",
        "\n",
        "$212.34\n",
        "$104.03\n",
        "\n",
        "$316.37\n",
        "$0.00\n",
        "$0.00\n",
        "\n",
        "$316.37\n",
        "\n",
        "Activity since last statement (May 13- June 12)\n",
        "\n",
        "Account information\n",
        "\n",
        "Statement date 06/13/2017\n",
        "\n",
        "Loan status Current\n",
        "Remaining principal $28,002.64\n",
        "Interest rate 4.875%\n",
        "Maturity date 41/1/2026\n",
        "Principal paid YTD $5,038.28\n",
        "Interest paid YTD $1,402.24\n",
        "\n",
        "Date Transaction\n",
        "\n",
        "Jun 01 Payment received\n",
        "\n",
        "Additional information\n",
        "\n",
        "Charge Payment\n",
        "$316.37\n",
        "\n",
        "Past payments breakdown\n",
        "\n",
        "Principal $204.16\n",
        "\n",
        "\n",
        "\n",
        "Interest $112.21\n",
        "Fees $0.00\n",
        "Total $316.37\n",
        "\n",
        "Autopay is on so you're all set! $316.37 will be applied on July 1, 2017 from your account ending in *1234. You can edit or\n",
        "cancel this payment at any time online at https://scratch.fi. And by paying with Autopay, your interest rate was reduced by 0.25%!\n",
        "\n",
        "Questions? Visit https://help.scratch.fi or call (855) 624-8246. Hours: M-Th 9am - 8pm and F 9am - Spm ET.\n",
        "\n",
        "Notice for payments by mail: If you're mailing a payment, please print the form below and include it in the envelope. Be sure to write\n",
        "your loan number in the memo of the check and make your check out to Scratch Services, LLC.\n",
        "\n",
        "Loan number\n",
        "Payment due date\n",
        "Total payment due\n",
        "\n",
        "1235678910 Send via USPS to: For FedEx, UPS and all others:\n",
        "\n",
        "Jul1,2017 Scratch Services,\n",
        "$316.37. PO Box 398654\n",
        "\n",
        "LLC Lockbox Services Box #138654\n",
        "3440 Walnut Avenue, Bidg 4, Window H\n",
        "\n",
        "San Francisco, CA 94139-8654 Fremont, CA 94538\n",
        "\n",
        "Page 1 of 1\n",
        "\n",
        "\n",
        "\n",
        "\"\"\""
      ],
      "metadata": {
        "id": "ObGjpL222bXm"
      },
      "execution_count": 20,
      "outputs": []
    },
    {
      "cell_type": "code",
      "source": [
        "query = f\"\"\"Use the below article on the scratch* Lendco Personal Loan. If the answer cannot be found, write \"I don't know.\"\n",
        "\n",
        "Article:\n",
        "\\\"\\\"\\\"\n",
        "{loan1_Pytesseract}\n",
        "\\\"\\\"\\\"\n",
        "\n",
        "Question: Which is the Overdue payments?\"\"\"\n",
        "\n",
        "response = openai.ChatCompletion.create(\n",
        "    messages=[\n",
        "        {'role': 'system', 'content': 'You answer questions about the scratch* Lendco Personal Loan.'},\n",
        "        {'role': 'user', 'content': query},\n",
        "    ],\n",
        "    model=GPT_MODEL,\n",
        "    temperature=0,\n",
        ")\n",
        "\n",
        "print(response['choices'][0]['message']['content'])"
      ],
      "metadata": {
        "colab": {
          "base_uri": "https://localhost:8080/"
        },
        "id": "YI35b4Ak3DqW",
        "outputId": "3d0762d0-b304-466d-dd19-75f4539a83ce"
      },
      "execution_count": 21,
      "outputs": [
        {
          "output_type": "stream",
          "name": "stdout",
          "text": [
            "According to the article, the overdue payments for the scratch* Lendco Personal Loan are $0.00.\n"
          ]
        }
      ]
    },
    {
      "cell_type": "code",
      "source": [
        "query = f\"\"\"Use the below article on the scratch* Lendco Personal Loan. If the answer cannot be found, write \"I don't know.\"\n",
        "\n",
        "Article:\n",
        "\\\"\\\"\\\"\n",
        "{loan1_Pytesseract}\n",
        "\\\"\\\"\\\"\n",
        "\n",
        "Question: Which is the Remaining principal\"\"\"\n",
        "\n",
        "response = openai.ChatCompletion.create(\n",
        "    messages=[\n",
        "        {'role': 'system', 'content': 'You answer questions about the scratch* Lendco Personal Loan.'},\n",
        "        {'role': 'user', 'content': query},\n",
        "    ],\n",
        "    model=GPT_MODEL,\n",
        "    temperature=0,\n",
        ")\n",
        "\n",
        "print(response['choices'][0]['message']['content'])"
      ],
      "metadata": {
        "colab": {
          "base_uri": "https://localhost:8080/"
        },
        "id": "1Gf4PuHE3Pw0",
        "outputId": "34f85a79-3157-4354-81d3-6d7ce1fa69c1"
      },
      "execution_count": 22,
      "outputs": [
        {
          "output_type": "stream",
          "name": "stdout",
          "text": [
            "The remaining principal on the scratch* Lendco Personal Loan is $28,002.64.\n"
          ]
        }
      ]
    },
    {
      "cell_type": "code",
      "source": [
        "query = f\"\"\"Use the below article on the scratch* Lendco Personal Loan. If the answer cannot be found, write \"I don't know.\"\n",
        "\n",
        "Article:\n",
        "\\\"\\\"\\\"\n",
        "{loan1_Pytesseract}\n",
        "\\\"\\\"\\\"\n",
        "\n",
        "Question: How much is due July 1, 2017\"\"\"\n",
        "\n",
        "response = openai.ChatCompletion.create(\n",
        "    messages=[\n",
        "        {'role': 'system', 'content': 'You answer questions about the scratch* Lendco Personal Loan.'},\n",
        "        {'role': 'user', 'content': query},\n",
        "    ],\n",
        "    model=GPT_MODEL,\n",
        "    temperature=0,\n",
        ")\n",
        "\n",
        "print(response['choices'][0]['message']['content'])"
      ],
      "metadata": {
        "colab": {
          "base_uri": "https://localhost:8080/"
        },
        "id": "1meFTI8W3W5S",
        "outputId": "d5061787-91ea-4515-cec5-f575a7364875"
      },
      "execution_count": 23,
      "outputs": [
        {
          "output_type": "stream",
          "name": "stdout",
          "text": [
            "The total amount due on July 1, 2017, is $316.37.\n"
          ]
        }
      ]
    },
    {
      "cell_type": "code",
      "source": [
        "# loan1_OpenCV\n",
        "\n",
        "loan1_OpenCV = \"\"\"\n",
        "\n",
        "\n",
        "\n",
        "Oe\n",
        "scratch* Lendco Persona toa\n",
        "\n",
        "hitpsifscratch fi Loan number 12345678910\n",
        "\n",
        "Sammy Scratch Total amount due July 1, 2017\n",
        "\n",
        "os $316.37\n",
        "\n",
        "Anytown, USA 12345\n",
        "After Jul 11, 2017, a $10 late fee wil be charged,\n",
        "\n",
        "Current payment\n",
        "\n",
        "Payment overview Account information\n",
        "\n",
        "\n",
        "\n",
        "Principal $2712.34 Statement date 06/13/2017\n",
        "Interest $104.03, Loan status Current\n",
        "Remaining principal $28,002.64\n",
        "Interest rate 4875%\n",
        "Maturity date 1111/2026\n",
        "Principal paid YTD $5,038.26\n",
        "Total due July 1, 2017 $316.37 Interest paid YTD $1,402.24\n",
        "\n",
        "Regular monthly payment $316.37\n",
        "Fees $0.00\n",
        "Overdue payments $80.00\n",
        "\n",
        "Activity since last statement (May 13- June 12)\n",
        "\n",
        "Date Transaction Charge Payment Past payments breakdown\n",
        "\n",
        "\n",
        "\n",
        "Jun 01 Payment received $316.37 Principal $204.16\n",
        "Interest $112.21\n",
        "Fees $0.00\n",
        "\n",
        "Total $316.37\n",
        "\n",
        "Additional information\n",
        "\n",
        "\n",
        "\n",
        "Autopay is on so you're all set! $316.37 will be applied on July 1, 2017 from your account ending in *4234. You can edit or\n",
        "cancel this payment at any time online at https://scratch.fi, And by paying with Autopay, your interest rate was reduced by 0.25%!\n",
        "\n",
        "Questions? Visit https://help scratch.fi or call (855) 624-8246, Hours: M-Th 9am - 8pm and F 9am - Spm ET.\n",
        "\n",
        "Notice for payments by rail: if youre mailing a payment, please print the form below and include it in the envelope. Be sure to write\n",
        "your loan number in the memo of the check and make your check out to Scratch Services, LLC.\n",
        "\n",
        "Loan number 1236678910 Send via USPS to: For FedEx, UPS and all others:\n",
        "\n",
        "Payment due date Jul1, 2017 — Scratch Services, LLC Lockbox Services Box #138654\n",
        "\n",
        "Total payment due $316.37 PO Box 398654 3440 Walnut Avenue, Bldg 4, Window H\n",
        "San Francisco, CA 94139-8654 Fremont, CA94538\n",
        "\"\"\""
      ],
      "metadata": {
        "id": "s22OYGW1g0NW"
      },
      "execution_count": 24,
      "outputs": []
    },
    {
      "cell_type": "code",
      "source": [
        "query = f\"\"\"Use the below article on the scratch* Lendco Personal Loan. If the answer cannot be found, write \"I don't know.\"\n",
        "\n",
        "Article:\n",
        "\\\"\\\"\\\"\n",
        "{loan1_OpenCV}\n",
        "\\\"\\\"\\\"\n",
        "\n",
        "Question: Which is the Overdue payments?\"\"\"\n",
        "\n",
        "response = openai.ChatCompletion.create(\n",
        "    messages=[\n",
        "        {'role': 'system', 'content': 'You answer questions about the scratch* Lendco Personal Loan.'},\n",
        "        {'role': 'user', 'content': query},\n",
        "    ],\n",
        "    model=GPT_MODEL,\n",
        "    temperature=0,\n",
        ")\n",
        "\n",
        "print(response['choices'][0]['message']['content'])"
      ],
      "metadata": {
        "id": "54gOL8FhhDuY",
        "outputId": "fdc05c35-589d-4d90-bd8c-f097f0c8a2ee",
        "colab": {
          "base_uri": "https://localhost:8080/"
        }
      },
      "execution_count": 25,
      "outputs": [
        {
          "output_type": "stream",
          "name": "stdout",
          "text": [
            "The overdue payments amount is $80.00.\n"
          ]
        }
      ]
    },
    {
      "cell_type": "code",
      "source": [
        "query = f\"\"\"Use the below article on the scratch* Lendco Personal Loan. If the answer cannot be found, write \"I don't know.\"\n",
        "\n",
        "Article:\n",
        "\\\"\\\"\\\"\n",
        "{loan1_OpenCV}\n",
        "\\\"\\\"\\\"\n",
        "\n",
        "Question: Which is the Remaining principal\"\"\"\n",
        "\n",
        "response = openai.ChatCompletion.create(\n",
        "    messages=[\n",
        "        {'role': 'system', 'content': 'You answer questions about the scratch* Lendco Personal Loan.'},\n",
        "        {'role': 'user', 'content': query},\n",
        "    ],\n",
        "    model=GPT_MODEL,\n",
        "    temperature=0,\n",
        ")\n",
        "\n",
        "print(response['choices'][0]['message']['content'])"
      ],
      "metadata": {
        "id": "mLYzpjk4hHFv",
        "outputId": "b600f3a5-d37e-4ad4-9b48-08774f5c5b42",
        "colab": {
          "base_uri": "https://localhost:8080/"
        }
      },
      "execution_count": 26,
      "outputs": [
        {
          "output_type": "stream",
          "name": "stdout",
          "text": [
            "The remaining principal is $28,002.64.\n"
          ]
        }
      ]
    },
    {
      "cell_type": "code",
      "source": [
        "query = f\"\"\"Use the below article on the scratch* Lendco Personal Loan. If the answer cannot be found, write \"I don't know.\"\n",
        "\n",
        "Article:\n",
        "\\\"\\\"\\\"\n",
        "{loan1_OpenCV}\n",
        "\\\"\\\"\\\"\n",
        "\n",
        "Question: How much is due July 1, 2017\"\"\"\n",
        "\n",
        "response = openai.ChatCompletion.create(\n",
        "    messages=[\n",
        "        {'role': 'system', 'content': 'You answer questions about the scratch* Lendco Personal Loan.'},\n",
        "        {'role': 'user', 'content': query},\n",
        "    ],\n",
        "    model=GPT_MODEL,\n",
        "    temperature=0,\n",
        ")\n",
        "\n",
        "print(response['choices'][0]['message']['content'])"
      ],
      "metadata": {
        "id": "V9XLNgybhJKZ",
        "outputId": "2ae76e6a-1866-4c3d-8974-d59c69e5b8f9",
        "colab": {
          "base_uri": "https://localhost:8080/"
        }
      },
      "execution_count": 27,
      "outputs": [
        {
          "output_type": "stream",
          "name": "stdout",
          "text": [
            "The total amount due on July 1, 2017, is $316.37.\n"
          ]
        }
      ]
    }
  ]
}