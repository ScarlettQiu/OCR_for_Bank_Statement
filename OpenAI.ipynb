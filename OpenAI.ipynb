{
  "nbformat": 4,
  "nbformat_minor": 0,
  "metadata": {
    "colab": {
      "provenance": [],
      "authorship_tag": "ABX9TyNmOI3i85z36UH+sXw03Tk7",
      "include_colab_link": true
    },
    "kernelspec": {
      "name": "python3",
      "display_name": "Python 3"
    },
    "language_info": {
      "name": "python"
    }
  },
  "cells": [
    {
      "cell_type": "markdown",
      "metadata": {
        "id": "view-in-github",
        "colab_type": "text"
      },
      "source": [
        "<a href=\"https://colab.research.google.com/github/ScarlettQiu/OCR_for_Bank_Statement/blob/main/OpenAI.ipynb\" target=\"_parent\"><img src=\"https://colab.research.google.com/assets/colab-badge.svg\" alt=\"Open In Colab\"/></a>"
      ]
    },
    {
      "cell_type": "code",
      "execution_count": null,
      "metadata": {
        "id": "R3uWr5gprGUc"
      },
      "outputs": [],
      "source": [
        "import os\n",
        "import openai\n",
        "\n",
        "openai.api_key = 'YOUR KEY'"
      ]
    },
    {
      "cell_type": "code",
      "source": [
        "# imports\n",
        "import ast  # for converting embeddings saved as strings back to arrays\n",
        "import openai  # for calling the OpenAI API\n",
        "import pandas as pd  # for storing text and embeddings data\n",
        "import tiktoken  # for counting tokens\n",
        "from scipy import spatial  # for calculating vector similarities for search\n",
        "\n",
        "\n",
        "# models\n",
        "EMBEDDING_MODEL = \"text-embedding-ada-002\"\n",
        "GPT_MODEL = \"gpt-3.5-turbo\""
      ],
      "metadata": {
        "id": "2Y-sV8vOz_IA"
      },
      "execution_count": null,
      "outputs": []
    },
    {
      "cell_type": "code",
      "source": [
        "# text copied and pasted from: https://en.wikipedia.org/wiki/Curling_at_the_2022_Winter_Olympics\n",
        "# I didn't bother to format or clean the text, but GPT will still understand it\n",
        "# the entire article is too long for gpt-3.5-turbo, so I only included the top few sections\n",
        "\n",
        "wikipedia_article_on_curling = \"\"\"Page|lof3|\n",
        "Platinum Card | Platinum Mastercard ending in 8508\n",
        "Billing|Cycle\n",
        "\n",
        "[Aug|O3,|2022|-|Sep|02,2022|  | |31|days|\n",
        "\n",
        "Account Summary\n",
        "\n",
        "Payment Information\n",
        "\n",
        "Previous Balance\n",
        "Payments\n",
        "Other Credits\n",
        "\n",
        "Transactions\n",
        "\n",
        "Payment Due Date\n",
        "\n",
        "sep 27, 2022\n",
        "\n",
        "New Balance Minimum Payment Due\n",
        "\n",
        "$1,659.63 $25.00\n",
        "\n",
        "LATE PAYMENT WARNING: If we do not receive your minimum payment\n",
        "by your due date, you may have to pay a late fee of up to $40.00.\n",
        "\n",
        "For online and phone payments, the\n",
        "deadline is 8pm ET.\n",
        "\n",
        "Cash Advances\n",
        "Fees Charged\n",
        "Interest Charged\n",
        "New Balance\n",
        "\n",
        "MINIMUM PAYMENT WARNING:!f you make only the minimum\n",
        "payment each period, you will pay more in interest and it will take you\n",
        "longer to pay off your balance. For example:\n",
        "\n",
        "Credit Limit\n",
        "\n",
        "Available Credit (as of Sep 02, 2022)\n",
        "\n",
        "Cash Advance Credit Limit\n",
        "\n",
        "Available Credit tor Cash Advances\n",
        "\n",
        "Estimated savings if Dalance is paid off in about 3 years: $1,378\n",
        "\n",
        "Manage your account\n",
        "if you would like information about credil counseling services, call 1-888-326-8055.\n",
        "\n",
        "$948.58\n",
        "\n",
        "- $250.00\n",
        "$0.00\n",
        "\n",
        "+ $961.05\n",
        "+ $0.00\n",
        "\n",
        "+ $0.00\n",
        "\n",
        "+ $0.00\n",
        "\n",
        "= $1,659.63\n",
        "$2,000.00\n",
        "$340.37\n",
        "$1,000.00\n",
        "$340.37\n",
        "\n",
        "anywhere, anytime.\n",
        "\n",
        "Pay your bill, set up alerts and more\n",
        "\n",
        "with the Capital One* mobile app.\n",
        "\n",
        "Notifications\n",
        "Welcome|to your|account|notifications,|Check||back|here|each|month| for |important|updates |about|your|account,\n",
        "\n",
        "Pay|or|manage |your account|at|capitalone.com|\n",
        "\n",
        "cans\n",
        "\n",
        "\n",
        "\n",
        "Discover new features with\n",
        "\n",
        "LAS|VEGAS, |NV/891/10-3437\n",
        "\n",
        "\n",
        "\n",
        "\n",
        "\n",
        "\n",
        "\n",
        "\n",
        "\n",
        "\n",
        "\n",
        "\n",
        "\n",
        "Sep|27,|2022 Account|ending|in|8508\n",
        "$25.00 City of| industry CA[91\n",
        "\n",
        "and only one check (or one money order) payable to Capital One ta DAL ete dea dene eed tana eda aba\n",
        "to ensure your payment |is processed|promptly, Allow at least seven|business days for delivery.\n",
        "\n",
        "the Capital One Mobile app.\n",
        "\n",
        "\n",
        "\n",
        "1 5/1/780/5/7/5/068/7/8)/508 165963020000002)/500/5\n",
        "\n",
        "\"\"\""
      ],
      "metadata": {
        "id": "qirjcX-crLyR"
      },
      "execution_count": null,
      "outputs": []
    },
    {
      "cell_type": "code",
      "source": [
        "query = f\"\"\"Use the below article on the Platinum Mastercard ending in 8508 Billing Cycle. If the answer cannot be found, write \"I don't know.\"\n",
        "\n",
        "Article:\n",
        "\\\"\\\"\\\"\n",
        "{wikipedia_article_on_curling}\n",
        "\\\"\\\"\\\"\n",
        "\n",
        "Question: Which is the minimun payment due?\"\"\"\n",
        "\n",
        "response = openai.ChatCompletion.create(\n",
        "    messages=[\n",
        "        {'role': 'system', 'content': 'You answer questions about the Platinum Mastercard ending in 8508 Billing Cycle.'},\n",
        "        {'role': 'user', 'content': query},\n",
        "    ],\n",
        "    model=GPT_MODEL,\n",
        "    temperature=0,\n",
        ")\n",
        "\n",
        "print(response['choices'][0]['message']['content'])"
      ],
      "metadata": {
        "colab": {
          "base_uri": "https://localhost:8080/"
        },
        "id": "Ja3qo6Hmxu69",
        "outputId": "ee9aa23f-e183-481e-ebec-2caf99110b78"
      },
      "execution_count": null,
      "outputs": [
        {
          "output_type": "stream",
          "name": "stdout",
          "text": [
            "The minimum payment due is $25.00.\n"
          ]
        }
      ]
    },
    {
      "cell_type": "code",
      "source": [
        "query = f\"\"\"Use the below article on the Platinum Mastercard ending in 8508 Billing Cycle. If the answer cannot be found, write \"I don't know.\"\n",
        "\n",
        "Article:\n",
        "\\\"\\\"\\\"\n",
        "{wikipedia_article_on_curling}\n",
        "\\\"\\\"\\\"\n",
        "\n",
        "Question: Which is the interest charged?\"\"\"\n",
        "\n",
        "response = openai.ChatCompletion.create(\n",
        "    messages=[\n",
        "        {'role': 'system', 'content': 'You answer questions about the Platinum Mastercard ending in 8508 Billing Cycle.'},\n",
        "        {'role': 'user', 'content': query},\n",
        "    ],\n",
        "    model=GPT_MODEL,\n",
        "    temperature=0,\n",
        ")\n",
        "\n",
        "print(response['choices'][0]['message']['content'])"
      ],
      "metadata": {
        "colab": {
          "base_uri": "https://localhost:8080/"
        },
        "id": "Sg1YkRrSz1SG",
        "outputId": "a069d6ce-79da-4e96-cfb8-c6366f7a6a79"
      },
      "execution_count": null,
      "outputs": [
        {
          "output_type": "stream",
          "name": "stdout",
          "text": [
            "Based on the information provided in the article, the interest charged for the Platinum Mastercard ending in 8508 Billing Cycle is $0.00.\n"
          ]
        }
      ]
    },
    {
      "cell_type": "code",
      "source": [
        "query = f\"\"\"Use the below article on the Platinum Mastercard ending in 8508 Billing Cycle. If the answer cannot be found, write \"I don't know.\"\n",
        "\n",
        "Article:\n",
        "\\\"\\\"\\\"\n",
        "{wikipedia_article_on_curling}\n",
        "\\\"\\\"\\\"\n",
        "\n",
        "Question: How much is the payments?\"\"\"\n",
        "\n",
        "response = openai.ChatCompletion.create(\n",
        "    messages=[\n",
        "        {'role': 'system', 'content': 'You answer questions about the Platinum Mastercard ending in 8508 Billing Cycle.'},\n",
        "        {'role': 'user', 'content': query},\n",
        "    ],\n",
        "    model=GPT_MODEL,\n",
        "    temperature=0,\n",
        ")\n",
        "\n",
        "print(response['choices'][0]['message']['content'])"
      ],
      "metadata": {
        "colab": {
          "base_uri": "https://localhost:8080/"
        },
        "id": "N5eHYF0Q0PFk",
        "outputId": "763b37c6-dc5e-4012-db1c-73b775adef32"
      },
      "execution_count": null,
      "outputs": [
        {
          "output_type": "stream",
          "name": "stdout",
          "text": [
            "The payments made on the Platinum Mastercard ending in 8508 Billing Cycle are $250.00.\n"
          ]
        }
      ]
    },
    {
      "cell_type": "code",
      "source": [
        "# text copied and pasted from: https://en.wikipedia.org/wiki/Curling_at_the_2022_Winter_Olympics\n",
        "# I didn't bother to format or clean the text, but GPT will still understand it\n",
        "# the entire article is too long for gpt-3.5-turbo, so I only included the top few sections\n",
        "\n",
        "cc1 = \"\"\"Page|lof3|\n",
        "Platinum Card | Platinum Mastercard ending in 8508\n",
        "Billing|Cycle\n",
        "\n",
        "[Aug|O3,|2022|-|Sep|02,2022|  | |31|days|\n",
        "\n",
        "Account Summary\n",
        "\n",
        "Payment Information\n",
        "\n",
        "Previous Balance\n",
        "Payments\n",
        "Other Credits\n",
        "\n",
        "Transactions\n",
        "\n",
        "Payment Due Date\n",
        "\n",
        "sep 27, 2022\n",
        "\n",
        "New Balance Minimum Payment Due\n",
        "\n",
        "$1,659.63 $25.00\n",
        "\n",
        "LATE PAYMENT WARNING: If we do not receive your minimum payment\n",
        "by your due date, you may have to pay a late fee of up to $40.00.\n",
        "\n",
        "For online and phone payments, the\n",
        "deadline is 8pm ET.\n",
        "\n",
        "Cash Advances\n",
        "Fees Charged\n",
        "Interest Charged\n",
        "New Balance\n",
        "\n",
        "MINIMUM PAYMENT WARNING:!f you make only the minimum\n",
        "payment each period, you will pay more in interest and it will take you\n",
        "longer to pay off your balance. For example:\n",
        "\n",
        "Credit Limit\n",
        "\n",
        "Available Credit (as of Sep 02, 2022)\n",
        "\n",
        "Cash Advance Credit Limit\n",
        "\n",
        "Available Credit tor Cash Advances\n",
        "\n",
        "Estimated savings if Dalance is paid off in about 3 years: $1,378\n",
        "\n",
        "Manage your account\n",
        "if you would like information about credil counseling services, call 1-888-326-8055.\n",
        "\n",
        "$948.58\n",
        "\n",
        "- $250.00\n",
        "$0.00\n",
        "\n",
        "+ $961.05\n",
        "+ $0.00\n",
        "\n",
        "+ $0.00\n",
        "\n",
        "+ $0.00\n",
        "\n",
        "= $1,659.63\n",
        "$2,000.00\n",
        "$340.37\n",
        "$1,000.00\n",
        "$340.37\n",
        "\n",
        "anywhere, anytime.\n",
        "\n",
        "Pay your bill, set up alerts and more\n",
        "\n",
        "with the Capital One* mobile app.\n",
        "\n",
        "Notifications\n",
        "Welcome|to your|account|notifications,|Check||back|here|each|month| for |important|updates |about|your|account,\n",
        "\n",
        "Pay|or|manage |your account|at|capitalone.com|\n",
        "\n",
        "cans\n",
        "\n",
        "\n",
        "\n",
        "Discover new features with\n",
        "\n",
        "LAS|VEGAS, |NV/891/10-3437\n",
        "\n",
        "\n",
        "\n",
        "\n",
        "\n",
        "\n",
        "\n",
        "\n",
        "\n",
        "\n",
        "\n",
        "\n",
        "\n",
        "Sep|27,|2022 Account|ending|in|8508\n",
        "$25.00 City of| industry CA[91\n",
        "\n",
        "and only one check (or one money order) payable to Capital One ta DAL ete dea dene eed tana eda aba\n",
        "to ensure your payment |is processed|promptly, Allow at least seven|business days for delivery.\n",
        "\n",
        "the Capital One Mobile app.\n",
        "\n",
        "\n",
        "\n",
        "1 5/1/780/5/7/5/068/7/8)/508 165963020000002)/500/5\n",
        "\n",
        "\"\"\""
      ],
      "metadata": {
        "id": "XTMO4TZt0oAs"
      },
      "execution_count": null,
      "outputs": []
    },
    {
      "cell_type": "code",
      "source": [
        "query = f\"\"\"Use the below article on the Platinum Mastercard ending in 8508 Billing Cycle. If the answer cannot be found, write \"I don't know.\"\n",
        "\n",
        "Article:\n",
        "\\\"\\\"\\\"\n",
        "{cc1}\n",
        "\\\"\\\"\\\"\n",
        "\n",
        "Question: How much is the payments?\"\"\"\n",
        "\n",
        "response = openai.ChatCompletion.create(\n",
        "    messages=[\n",
        "        {'role': 'system', 'content': 'You answer questions about the Platinum Mastercard ending in 8508 Billing Cycle.'},\n",
        "        {'role': 'user', 'content': query},\n",
        "    ],\n",
        "    model=GPT_MODEL,\n",
        "    temperature=0,\n",
        ")\n",
        "\n",
        "print(response['choices'][0]['message']['content'])"
      ],
      "metadata": {
        "colab": {
          "base_uri": "https://localhost:8080/"
        },
        "id": "sUsfVGzj1ODh",
        "outputId": "9fb04c2b-fa7a-4f38-98b5-48134b26a9c5"
      },
      "execution_count": null,
      "outputs": [
        {
          "output_type": "stream",
          "name": "stdout",
          "text": [
            "The payments made on the Platinum Mastercard ending in 8508 Billing Cycle are $250.00.\n"
          ]
        }
      ]
    },
    {
      "cell_type": "code",
      "source": [
        "query = f\"\"\"Use the below article on the Platinum Mastercard ending in 8508 Billing Cycle. If the answer cannot be found, write \"I don't know.\"\n",
        "\n",
        "Article:\n",
        "\\\"\\\"\\\"\n",
        "{cc1}\n",
        "\\\"\\\"\\\"\n",
        "\n",
        "Question: Which is the interest charged?\"\"\"\n",
        "\n",
        "response = openai.ChatCompletion.create(\n",
        "    messages=[\n",
        "        {'role': 'system', 'content': 'You answer questions about the Platinum Mastercard ending in 8508 Billing Cycle.'},\n",
        "        {'role': 'user', 'content': query},\n",
        "    ],\n",
        "    model=GPT_MODEL,\n",
        "    temperature=0,\n",
        ")\n",
        "\n",
        "print(response['choices'][0]['message']['content'])"
      ],
      "metadata": {
        "colab": {
          "base_uri": "https://localhost:8080/"
        },
        "id": "XSFXptJY1Rnw",
        "outputId": "540883c6-93b9-4bd0-cc7f-99cc439e6069"
      },
      "execution_count": null,
      "outputs": [
        {
          "output_type": "stream",
          "name": "stdout",
          "text": [
            "Based on the information provided in the article, the interest charged for the Platinum Mastercard ending in 8508 Billing Cycle is $0.00.\n"
          ]
        }
      ]
    },
    {
      "cell_type": "code",
      "source": [
        "# text copied and pasted from: https://en.wikipedia.org/wiki/Curling_at_the_2022_Winter_Olympics\n",
        "# I didn't bother to format or clean the text, but GPT will still understand it\n",
        "# the entire article is too long for gpt-3.5-turbo, so I only included the top few sections\n",
        "\n",
        "cc2 = \"\"\"Page 2 of 3\n",
        "Platinum Card | Platinum Mastercard ending in 8508\n",
        "Aug 03, 2022 - Sep 02, 2022 | 31 days in Billing Cycle\n",
        "\n",
        "\n",
        "\n",
        "\n",
        "\n",
        "(Conrours 2:Transactions\n",
        "\n",
        "8508: Payments, Credits and Adjustments\n",
        "Trans Date —— Post Date Description\n",
        "Aug 7 Aug 8 CAPITAL ONE MOBILE PYMTAuthDate 06-Aug\n",
        "Aug 19 Aug 19 CAPITAL ONE MOBILE PYMTAuthDate 19-Aug\n",
        "\n",
        "KRYSTAL BRECEDA #8508: Transactions\n",
        "Trans Date Description\n",
        "VISIONWORKS INC - GLAS VEGASNYV\n",
        "AMZN Mktp US*178031AS2Amzn.combillWA\n",
        "\n",
        "Page 2 of 3\n",
        "Platinum Card | Platinum Mastercard ending in 8508\n",
        "Aug 03, 2022 - Sep 02, 2022 | 31 days in Billing Cycle\n",
        "\n",
        "Amount\n",
        "$787.14\n",
        "$25.28\n",
        "\n",
        "\n",
        "\n",
        "AMZN Mktp US*7K7LM6FA3Amzn.conmvbilIWA\n",
        "Aug 17 Aug 18 OLD NAVY US 3292LAS VEGASNY\n",
        "Aug 21 Aug 22 Amazon.com*QG7UL4173AMZN.COM/BILLWA\n",
        "Aug 28 Aug 29 BURLINGTON STORES 1234LAS VEGASNY\n",
        "Aug 28 Aug 29 SAM'S TOWN BOWLING CENLAS VEGASNY\n",
        "KRYSTAL BRECEDA #8508: Total Transactions\n",
        "\n",
        "Total Transactions for This Period\n",
        "\n",
        "Trans Date Post Date Description\n",
        "\n",
        "Total Fees for This Period\n",
        "\n",
        "Interest Charge on Purchases\n",
        "Interest Charge on Cash Advances\n",
        "Interest Charge an Other Balances\n",
        "\n",
        "Total Interest for This Period\n",
        "\n",
        "Total Fees charged\n",
        "Total Interest charged\n",
        "\n",
        "$10.78\n",
        "$19.50\n",
        "$11.35\n",
        "$77.00\n",
        "$30.00\n",
        "$961.05\n",
        "\n",
        "$961.05\n",
        "\n",
        "\n",
        "\n",
        "\n",
        "\"\"\""
      ],
      "metadata": {
        "id": "ybWxSycr1YJ9"
      },
      "execution_count": null,
      "outputs": []
    },
    {
      "cell_type": "code",
      "source": [
        "query = f\"\"\"Use the below article on the Platinum Mastercard ending in 8508 Billing Cycle. If the answer cannot be found, write \"I don't know.\"\n",
        "\n",
        "Article:\n",
        "\\\"\\\"\\\"\n",
        "{cc2}\n",
        "\\\"\\\"\\\"\n",
        "\n",
        "Question: Which is the KRYSTAL BRECEDA #8508: Total Transactions?\"\"\"\n",
        "\n",
        "response = openai.ChatCompletion.create(\n",
        "    messages=[\n",
        "        {'role': 'system', 'content': 'You answer questions about the Platinum Mastercard ending in 8508 Billing Cycle.'},\n",
        "        {'role': 'user', 'content': query},\n",
        "    ],\n",
        "    model=GPT_MODEL,\n",
        "    temperature=0,\n",
        ")\n",
        "\n",
        "print(response['choices'][0]['message']['content'])"
      ],
      "metadata": {
        "colab": {
          "base_uri": "https://localhost:8080/"
        },
        "id": "1eG3loai2S16",
        "outputId": "60477150-0a59-48f5-d267-4dc5395ffd11"
      },
      "execution_count": null,
      "outputs": [
        {
          "output_type": "stream",
          "name": "stdout",
          "text": [
            "Based on the information provided in the article, the total transactions for the Platinum Mastercard ending in 8508 for the billing cycle are not specified. Therefore, the answer to the question \"Which is the KRYSTAL BRECEDA #8508: Total Transactions?\" is \"I don't know.\"\n"
          ]
        }
      ]
    },
    {
      "cell_type": "code",
      "source": [
        "# text copied and pasted from: https://en.wikipedia.org/wiki/Curling_at_the_2022_Winter_Olympics\n",
        "# I didn't bother to format or clean the text, but GPT will still understand it\n",
        "# the entire article is too long for gpt-3.5-turbo, so I only included the top few sections\n",
        "\n",
        "loan1 = \"\"\"\n",
        "\n",
        "\n",
        "Oe\n",
        "scratch* Lendco Persona toa\n",
        "\n",
        "hitpsifscratch fi Loan number 12345678910\n",
        "\n",
        "Sammy Scratch Total amount due July 1, 2017\n",
        "\n",
        "os $316.37\n",
        "\n",
        "Anytown, USA 12345\n",
        "After Jul 11, 2017, a $10 late fee wil be charged,\n",
        "\n",
        "Current payment\n",
        "\n",
        "Payment overview Account information\n",
        "\n",
        "\n",
        "\n",
        "Principal $2712.34 Statement date 06/13/2017\n",
        "Interest $104.03, Loan status Current\n",
        "Remaining principal $28,002.64\n",
        "Interest rate 4875%\n",
        "Maturity date 1111/2026\n",
        "Principal paid YTD $5,038.26\n",
        "Total due July 1, 2017 $316.37 Interest paid YTD $1,402.24\n",
        "\n",
        "Regular monthly payment $316.37\n",
        "Fees $0.00\n",
        "Overdue payments $80.00\n",
        "\n",
        "Activity since last statement (May 13- June 12)\n",
        "\n",
        "Date Transaction Charge Payment Past payments breakdown\n",
        "\n",
        "\n",
        "\n",
        "Jun 01 Payment received $316.37 Principal $204.16\n",
        "Interest $112.21\n",
        "Fees $0.00\n",
        "\n",
        "Total $316.37\n",
        "\n",
        "Additional information\n",
        "\n",
        "\n",
        "\n",
        "Autopay is on so you're all set! $316.37 will be applied on July 1, 2017 from your account ending in *4234. You can edit or\n",
        "cancel this payment at any time online at https://scratch.fi, And by paying with Autopay, your interest rate was reduced by 0.25%!\n",
        "\n",
        "Questions? Visit https://help scratch.fi or call (855) 624-8246, Hours: M-Th 9am - 8pm and F 9am - Spm ET.\n",
        "\n",
        "Notice for payments by rail: if youre mailing a payment, please print the form below and include it in the envelope. Be sure to write\n",
        "your loan number in the memo of the check and make your check out to Scratch Services, LLC.\n",
        "\n",
        "Loan number 1236678910 Send via USPS to: For FedEx, UPS and all others:\n",
        "\n",
        "Payment due date Jul1, 2017 — Scratch Services, LLC Lockbox Services Box #138654\n",
        "\n",
        "Total payment due $316.37 PO Box 398654 3440 Walnut Avenue, Bldg 4, Window H\n",
        "San Francisco, CA 94139-8654 Fremont, CA94538\n",
        "\"\"\""
      ],
      "metadata": {
        "id": "ObGjpL222bXm"
      },
      "execution_count": null,
      "outputs": []
    },
    {
      "cell_type": "code",
      "source": [
        "query = f\"\"\"Use the below article on the scratch* Lendco Personal Loan. If the answer cannot be found, write \"I don't know.\"\n",
        "\n",
        "Article:\n",
        "\\\"\\\"\\\"\n",
        "{loan1}\n",
        "\\\"\\\"\\\"\n",
        "\n",
        "Question: Which is the Overdue payments?\"\"\"\n",
        "\n",
        "response = openai.ChatCompletion.create(\n",
        "    messages=[\n",
        "        {'role': 'system', 'content': 'You answer questions about the scratch* Lendco Personal Loan.'},\n",
        "        {'role': 'user', 'content': query},\n",
        "    ],\n",
        "    model=GPT_MODEL,\n",
        "    temperature=0,\n",
        ")\n",
        "\n",
        "print(response['choices'][0]['message']['content'])"
      ],
      "metadata": {
        "colab": {
          "base_uri": "https://localhost:8080/"
        },
        "id": "YI35b4Ak3DqW",
        "outputId": "06914394-b35d-45de-c6ff-6ecf8047b25d"
      },
      "execution_count": null,
      "outputs": [
        {
          "output_type": "stream",
          "name": "stdout",
          "text": [
            "The overdue payments amount is $80.00.\n"
          ]
        }
      ]
    },
    {
      "cell_type": "code",
      "source": [
        "query = f\"\"\"Use the below article on the scratch* Lendco Personal Loan. If the answer cannot be found, write \"I don't know.\"\n",
        "\n",
        "Article:\n",
        "\\\"\\\"\\\"\n",
        "{loan1}\n",
        "\\\"\\\"\\\"\n",
        "\n",
        "Question: Which is the Remaining principal\"\"\"\n",
        "\n",
        "response = openai.ChatCompletion.create(\n",
        "    messages=[\n",
        "        {'role': 'system', 'content': 'You answer questions about the scratch* Lendco Personal Loan.'},\n",
        "        {'role': 'user', 'content': query},\n",
        "    ],\n",
        "    model=GPT_MODEL,\n",
        "    temperature=0,\n",
        ")\n",
        "\n",
        "print(response['choices'][0]['message']['content'])"
      ],
      "metadata": {
        "colab": {
          "base_uri": "https://localhost:8080/"
        },
        "id": "1Gf4PuHE3Pw0",
        "outputId": "95bfbc99-5ca7-43b5-cef4-41743e423f84"
      },
      "execution_count": null,
      "outputs": [
        {
          "output_type": "stream",
          "name": "stdout",
          "text": [
            "The remaining principal is $28,002.64.\n"
          ]
        }
      ]
    },
    {
      "cell_type": "code",
      "source": [
        "query = f\"\"\"Use the below article on the scratch* Lendco Personal Loan. If the answer cannot be found, write \"I don't know.\"\n",
        "\n",
        "Article:\n",
        "\\\"\\\"\\\"\n",
        "{loan1}\n",
        "\\\"\\\"\\\"\n",
        "\n",
        "Question: How much is due July 1, 2017\"\"\"\n",
        "\n",
        "response = openai.ChatCompletion.create(\n",
        "    messages=[\n",
        "        {'role': 'system', 'content': 'You answer questions about the scratch* Lendco Personal Loan.'},\n",
        "        {'role': 'user', 'content': query},\n",
        "    ],\n",
        "    model=GPT_MODEL,\n",
        "    temperature=0,\n",
        ")\n",
        "\n",
        "print(response['choices'][0]['message']['content'])"
      ],
      "metadata": {
        "colab": {
          "base_uri": "https://localhost:8080/"
        },
        "id": "1meFTI8W3W5S",
        "outputId": "51102009-0ce9-416e-872b-abe9c13f3a9d"
      },
      "execution_count": null,
      "outputs": [
        {
          "output_type": "stream",
          "name": "stdout",
          "text": [
            "The total amount due on July 1, 2017, is $316.37.\n"
          ]
        }
      ]
    }
  ]
}